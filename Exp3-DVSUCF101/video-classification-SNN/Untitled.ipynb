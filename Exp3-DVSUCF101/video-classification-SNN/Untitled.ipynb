{
 "cells": [
  {
   "cell_type": "code",
   "execution_count": 3,
   "metadata": {},
   "outputs": [],
   "source": [
    "\"\"\"\n",
    "train LIAF from pretrained ANN models\n",
    "\"\"\"\n",
    "\n",
    "import os\n",
    "import time\n",
    "import numpy as np\n",
    "import torch\n",
    "import torch.nn as nn\n",
    "import torch.nn.functional as F\n",
    "import torchvision\n",
    "import torchvision.transforms as transforms\n",
    "from torch.utils.tensorboard import SummaryWriter\n",
    "from sklearn.model_selection import train_test_split\n",
    "from sklearn.preprocessing import OneHotEncoder, LabelEncoder\n",
    "import pickle\n",
    "from utils import labels2cat\n",
    "from dataloader import DVS_Dataset\n",
    "\n",
    "from configs_LIAF import training_configs, model_configs\n",
    "\n",
    "import sys\n",
    "sys.path.append(r'./models/')   # caution, please note to add models path\n",
    "from models.LIAFCNN import LIAFCNN\n",
    "from models.CRNN import DecoderRNN\n",
    "from models import LIAF\n",
    "\n",
    "cnn_encoder = LIAFCNN(model_configs['encoder'])\n",
    "rnn_decoder = DecoderRNN(CNN_embed_dim=model_configs['encoder']['embed_dim'],\n",
    "                             num_layers=model_configs['decoder']['num_layers'],\n",
    "                             hidden_dim=model_configs['decoder']['hidden_dim'],\n",
    "                             num_classes=model_configs['decoder']['num_classes'])\n"
   ]
  },
  {
   "cell_type": "code",
   "execution_count": 5,
   "metadata": {},
   "outputs": [
    {
     "name": "stdout",
     "output_type": "stream",
     "text": [
      "[torch.Size([1]), torch.Size([8, 2, 5, 5]), torch.Size([8]), torch.Size([8]), torch.Size([8]), torch.Size([1]), torch.Size([16, 8, 3, 3]), torch.Size([16]), torch.Size([16]), torch.Size([16]), torch.Size([1]), torch.Size([32, 16, 3, 3]), torch.Size([32]), torch.Size([32]), torch.Size([32]), torch.Size([1]), torch.Size([64, 32, 3, 3]), torch.Size([64]), torch.Size([64]), torch.Size([64]), torch.Size([1]), torch.Size([1024, 17920]), torch.Size([1024]), torch.Size([1]), torch.Size([512, 1024]), torch.Size([512])]\n"
     ]
    }
   ],
   "source": [
    "print([x.size() for x in cnn_encoder.parameters()])"
   ]
  },
  {
   "cell_type": "code",
   "execution_count": null,
   "metadata": {},
   "outputs": [],
   "source": []
  }
 ],
 "metadata": {
  "kernelspec": {
   "display_name": "Python 3",
   "language": "python",
   "name": "python3"
  },
  "language_info": {
   "codemirror_mode": {
    "name": "ipython",
    "version": 3
   },
   "file_extension": ".py",
   "mimetype": "text/x-python",
   "name": "python",
   "nbconvert_exporter": "python",
   "pygments_lexer": "ipython3",
   "version": "3.6.2"
  }
 },
 "nbformat": 4,
 "nbformat_minor": 2
}
